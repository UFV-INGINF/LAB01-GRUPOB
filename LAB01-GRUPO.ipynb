{
 "cells": [
  {
   "cell_type": "code",
   "execution_count": null,
   "id": "9b236f23-a820-40d6-a916-06c9413ee0fe",
   "metadata": {
    "tags": []
   },
   "outputs": [],
   "source": [
    "#!pip install pandas\n",
    "#!pip install matplotlib\n",
    "#!pip install -U scikit-learn"
   ]
  },
  {
   "cell_type": "code",
   "execution_count": 17,
   "id": "b6b356c8-d30d-4258-af2f-b80222541846",
   "metadata": {
    "tags": []
   },
   "outputs": [],
   "source": [
    "#importamos las librerías\n",
    "import pandas as pd\n",
    "import numpy as np\n",
    "import matplotlib.pyplot as plt\n",
    "import sklearn\n",
    "%matplotlib inline"
   ]
  },
  {
   "cell_type": "code",
   "execution_count": 18,
   "id": "c88785b3-6ae4-438d-9eec-82b0cbff4520",
   "metadata": {
    "tags": []
   },
   "outputs": [],
   "source": [
    "#leemos el fichero airbnb.csv\n",
    "ficheroAirbnb = pd.read_csv('airbnb.csv', encoding='latin-1')\n",
    "ficheroAirbnb = ficheroAirbnb.dropna()\n",
    "ficheroAirbnb = ficheroAirbnb.drop_duplicates()\n",
    "#ficheroAirbnb"
   ]
  },
  {
   "cell_type": "code",
   "execution_count": 19,
   "id": "e7cf02ca-71e5-4195-827f-be152ea3b7ca",
   "metadata": {
    "tags": []
   },
   "outputs": [],
   "source": [
    "#leemos el fichero banco ufv.csv\n",
    "ficheroBanco = pd.read_csv('banco ufv.csv', sep=';', encoding = 'latin-1')\n",
    "ficheroBanco = ficheroBanco.dropna()\n",
    "ficheroBanco = ficheroBanco.drop_duplicates()\n",
    "#ficheroBanco"
   ]
  },
  {
   "cell_type": "code",
   "execution_count": 20,
   "id": "02feaa59-9299-4aac-ba11-3e4c8c890c7f",
   "metadata": {
    "tags": []
   },
   "outputs": [],
   "source": [
    "#leemos el fichero pokemom.csv\n",
    "ficheroPokemon = pd.read_csv('pokemon.csv', encoding='latin-1')\n",
    "ficheroPokemon = ficheroPokemon.dropna()\n",
    "ficheroPokemon = ficheroPokemon.drop_duplicates()\n",
    "\n",
    "#escribimos correctamente los nombre de las variables\n",
    "ficheroPokemon.columns = ['Pokemon','Tipo','PS','Ataque','Defensa', 'Ataque especial', 'Defensa especial', 'Velocidad']\n",
    "ficheroPokemon = ficheroPokemon.drop(ficheroPokemon.index[[0]])\n",
    "#ficheroPokemon"
   ]
  },
  {
   "cell_type": "code",
   "execution_count": null,
   "id": "f4b11ea7-047c-4951-8153-da33a3411bfe",
   "metadata": {},
   "outputs": [],
   "source": []
  },
  {
   "cell_type": "code",
   "execution_count": null,
   "id": "cea4de87-4bfc-46c8-9616-984660de307d",
   "metadata": {},
   "outputs": [],
   "source": []
  }
 ],
 "metadata": {
  "kernelspec": {
   "display_name": "Python 3 (ipykernel)",
   "language": "python",
   "name": "python3"
  },
  "language_info": {
   "codemirror_mode": {
    "name": "ipython",
    "version": 3
   },
   "file_extension": ".py",
   "mimetype": "text/x-python",
   "name": "python",
   "nbconvert_exporter": "python",
   "pygments_lexer": "ipython3",
   "version": "3.9.13"
  }
 },
 "nbformat": 4,
 "nbformat_minor": 5
}
